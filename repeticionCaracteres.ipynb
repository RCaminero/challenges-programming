{
  "nbformat": 4,
  "nbformat_minor": 0,
  "metadata": {
    "colab": {
      "provenance": [],
      "authorship_tag": "ABX9TyOg7pkC4UPtxD9ipOlRGwas",
      "include_colab_link": true
    },
    "kernelspec": {
      "name": "python3",
      "display_name": "Python 3"
    },
    "language_info": {
      "name": "python"
    }
  },
  "cells": [
    {
      "cell_type": "markdown",
      "metadata": {
        "id": "view-in-github",
        "colab_type": "text"
      },
      "source": [
        "<a href=\"https://colab.research.google.com/github/RCaminero/challenges-programming/blob/main/repeticionCaracteres.ipynb\" target=\"_parent\"><img src=\"https://colab.research.google.com/assets/colab-badge.svg\" alt=\"Open In Colab\"/></a>"
      ]
    },
    {
      "cell_type": "code",
      "execution_count": null,
      "metadata": {
        "colab": {
          "base_uri": "https://localhost:8080/"
        },
        "id": "-ebdWIjLQUtf",
        "outputId": "c1651dce-fe2b-4d71-ac37-02755889184a"
      },
      "outputs": [
        {
          "output_type": "stream",
          "name": "stdout",
          "text": [
            "Ingresa una cadena: hola mama\n",
            "{'h': 1, 'o': 1, 'l': 1, 'a': 3, ' ': 1, 'm': 2}\n"
          ]
        }
      ],
      "source": [
        "def repeticion_caracteres(cadena):\n",
        "    caracteres = {}  #Este es un diccionario para guardar las repeticiones de las letras\n",
        "\n",
        "    for c in cadena: #Recorre por cada letra de la cadena\n",
        "        if c in caracteres: #Verifica si el valor está dentro del diccionario, en caso de que sí, se le suma uno\n",
        "              caracteres[c] += 1 \n",
        "        else:\n",
        "            caracteres[c] = 1 #Si la letra no está en el diccionario, agrega el caracter (key) con una repetición (value)\n",
        "    return print(caracteres)\n",
        "\n",
        "cadena = str(input(\"Ingresa una cadena: \"))\n",
        "repeticion_caracteres(cadena)\n",
        "    "
      ]
    },
    {
      "cell_type": "code",
      "source": [
        "import collections\n",
        "def repeticion_caracteres(cadena):\n",
        "    r=collections.Counter(cadena)\n",
        "    return print(r)\n",
        "\n",
        "cadena = str(input(\"Ingresa una cadena: \"))\n",
        "repeticion_caracteres(cadena)\n",
        "\n"
      ],
      "metadata": {
        "colab": {
          "base_uri": "https://localhost:8080/"
        },
        "id": "-ezfb2PCFdEB",
        "outputId": "b3c9df06-6677-4907-d548-158be175ecec"
      },
      "execution_count": null,
      "outputs": [
        {
          "name": "stdout",
          "output_type": "stream",
          "text": [
            "Ingresa una cadena: klk m\n"
          ]
        },
        {
          "output_type": "execute_result",
          "data": {
            "text/plain": [
              "Counter({' ': 1, 'k': 2, 'l': 1, 'm': 1})"
            ]
          },
          "metadata": {},
          "execution_count": 25
        }
      ]
    }
  ]
}